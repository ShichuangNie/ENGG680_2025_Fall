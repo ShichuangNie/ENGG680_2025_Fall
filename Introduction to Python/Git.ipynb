{
  "nbformat": 4,
  "nbformat_minor": 0,
  "metadata": {
    "colab": {
      "provenance": [],
      "mount_file_id": "1va88J020pxWKtdOu3qN2Qb0CH480Ta1H",
      "authorship_tag": "ABX9TyPFpsStcp+KmzNHMckBXH3f",
      "include_colab_link": true
    },
    "kernelspec": {
      "name": "python3",
      "display_name": "Python 3"
    },
    "language_info": {
      "name": "python"
    }
  },
  "cells": [
    {
      "cell_type": "markdown",
      "metadata": {
        "id": "view-in-github",
        "colab_type": "text"
      },
      "source": [
        "<a href=\"https://colab.research.google.com/github/ShichuangNie/ENGG680_2025_Fall/blob/main/Introduction%20to%20Python/Git.ipynb\" target=\"_parent\"><img src=\"https://colab.research.google.com/assets/colab-badge.svg\" alt=\"Open In Colab\"/></a>"
      ]
    },
    {
      "cell_type": "code",
      "source": [
        "!git --version"
      ],
      "metadata": {
        "colab": {
          "base_uri": "https://localhost:8080/"
        },
        "id": "9JiRo8u4-d2C",
        "outputId": "23f27b99-de15-41a7-d55e-30cac2e833b1"
      },
      "execution_count": 1,
      "outputs": [
        {
          "output_type": "stream",
          "name": "stdout",
          "text": [
            "git version 2.34.1\n"
          ]
        }
      ]
    },
    {
      "cell_type": "code",
      "source": [
        "!git config --global user.email \"sunnie.nie@ucalgary.ca\"\n",
        "!git config --global user.name \"ShichuangNie\""
      ],
      "metadata": {
        "id": "8YLtqGdXAKiG"
      },
      "execution_count": 3,
      "outputs": []
    },
    {
      "cell_type": "code",
      "source": [
        "!git clone https://github.com/ShichuangNie/ENGG680_2025_Fall.git"
      ],
      "metadata": {
        "colab": {
          "base_uri": "https://localhost:8080/"
        },
        "id": "PCnEfvzwAvS5",
        "outputId": "6c9a4228-614a-497d-f7a5-fc4744fc06b9"
      },
      "execution_count": 4,
      "outputs": [
        {
          "output_type": "stream",
          "name": "stdout",
          "text": [
            "Cloning into 'ENGG680_2025_Fall'...\n",
            "remote: Enumerating objects: 66, done.\u001b[K\n",
            "remote: Counting objects: 100% (3/3), done.\u001b[K\n",
            "remote: Compressing objects: 100% (3/3), done.\u001b[K\n",
            "remote: Total 66 (delta 0), reused 0 (delta 0), pack-reused 63 (from 1)\u001b[K\n",
            "Receiving objects: 100% (66/66), 2.24 MiB | 7.46 MiB/s, done.\n",
            "Resolving deltas: 100% (17/17), done.\n"
          ]
        }
      ]
    },
    {
      "cell_type": "code",
      "source": [],
      "metadata": {
        "id": "myoEJo4RA9xh"
      },
      "execution_count": null,
      "outputs": []
    }
  ]
}