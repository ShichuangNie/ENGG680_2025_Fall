{
  "nbformat": 4,
  "nbformat_minor": 0,
  "metadata": {
    "colab": {
      "provenance": [],
      "mount_file_id": "1va88J020pxWKtdOu3qN2Qb0CH480Ta1H",
      "authorship_tag": "ABX9TyMHoVJsTEoCi1ONb1aTUPBz",
      "include_colab_link": true
    },
    "kernelspec": {
      "name": "python3",
      "display_name": "Python 3"
    },
    "language_info": {
      "name": "python"
    }
  },
  "cells": [
    {
      "cell_type": "markdown",
      "metadata": {
        "id": "view-in-github",
        "colab_type": "text"
      },
      "source": [
        "<a href=\"https://colab.research.google.com/github/ShichuangNie/ENGG680_2025_Fall/blob/main/newfolder/Git.ipynb\" target=\"_parent\"><img src=\"https://colab.research.google.com/assets/colab-badge.svg\" alt=\"Open In Colab\"/></a>"
      ]
    },
    {
      "cell_type": "code",
      "source": [
        "111"
      ],
      "metadata": {
        "id": "okbA3XRWD_E0"
      },
      "execution_count": null,
      "outputs": []
    },
    {
      "cell_type": "code",
      "source": [
        "54321"
      ],
      "metadata": {
        "id": "iuzztOKDFVI1"
      },
      "execution_count": null,
      "outputs": []
    }
  ]
}